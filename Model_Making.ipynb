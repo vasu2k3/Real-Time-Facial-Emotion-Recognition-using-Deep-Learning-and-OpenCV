{
 "cells": [
  {
   "cell_type": "markdown",
   "id": "7ef8b390",
   "metadata": {},
   "source": [
    "# Facial Emotions Recognition"
   ]
  },
  {
   "cell_type": "code",
   "execution_count": 1,
   "id": "171ed7ba",
   "metadata": {},
   "outputs": [],
   "source": [
    "# !pip install Keras-Preprocessing"
   ]
  },
  {
   "cell_type": "code",
   "execution_count": 2,
   "id": "19ce7749",
   "metadata": {},
   "outputs": [],
   "source": [
    "from keras.utils import to_categorical\n",
    "from keras_preprocessing.image import load_img\n",
    "from keras.models import Sequential\n",
    "from keras.layers import Dense, Conv2D, Dropout, Flatten, MaxPooling2D\n",
    "import os\n",
    "import pandas as pd\n",
    "import numpy as np"
   ]
  },
  {
   "cell_type": "code",
   "execution_count": 3,
   "id": "02e9c221",
   "metadata": {},
   "outputs": [],
   "source": [
    "TRAIN_DIR = 'images_/train_'\n",
    "TEST_DIR = 'images_/validation_'"
   ]
  },
  {
   "cell_type": "code",
   "execution_count": 4,
   "id": "ede9c1f1",
   "metadata": {},
   "outputs": [],
   "source": [
    "def createdataframe(dir):\n",
    "    image_paths = []\n",
    "    labels = []\n",
    "    for label in os.listdir(dir):\n",
    "        for imagename in os.listdir(os.path.join(dir,label)):\n",
    "            image_paths.append(os.path.join(dir,label,imagename))\n",
    "            labels.append(label)\n",
    "        print(label, \"completed\")\n",
    "    return image_paths,labels"
   ]
  },
  {
   "cell_type": "code",
   "execution_count": 5,
   "id": "a3a8f1a9",
   "metadata": {},
   "outputs": [
    {
     "name": "stdout",
     "output_type": "stream",
     "text": [
      "angry_demo completed\n",
      "disgust_demo completed\n",
      "fear_demo completed\n",
      "happy_demo completed\n",
      "neutral_demo completed\n",
      "sad_demo completed\n",
      "surprise_demo completed\n"
     ]
    }
   ],
   "source": [
    "train_demo = pd.DataFrame()\n",
    "train_demo['image'], train_demo['label'] = createdataframe(TRAIN_DIR)"
   ]
  },
  {
   "cell_type": "code",
   "execution_count": 6,
   "id": "c8a0cd29",
   "metadata": {},
   "outputs": [
    {
     "name": "stdout",
     "output_type": "stream",
     "text": [
      "                              image       label\n",
      "0   images_/train_\\angry_demo\\0.jpg  angry_demo\n",
      "1   images_/train_\\angry_demo\\1.jpg  angry_demo\n",
      "2  images_/train_\\angry_demo\\10.jpg  angry_demo\n",
      "3  images_/train_\\angry_demo\\22.jpg  angry_demo\n",
      "4  images_/train_\\angry_demo\\27.jpg  angry_demo\n"
     ]
    }
   ],
   "source": [
    "print(train_demo.head())"
   ]
  },
  {
   "cell_type": "code",
   "execution_count": 7,
   "id": "7f9688fc",
   "metadata": {},
   "outputs": [
    {
     "name": "stdout",
     "output_type": "stream",
     "text": [
      "angry_demo completed\n",
      "disgust_demo completed\n",
      "fear_demo completed\n",
      "happy_demo completed\n",
      "neutral_demo completed\n",
      "sad_demo completed\n",
      "surprise_demo completed\n"
     ]
    }
   ],
   "source": [
    "validation_demo = pd.DataFrame()\n",
    "validation_demo['image'], validation_demo['label'] = createdataframe(TEST_DIR)"
   ]
  },
  {
   "cell_type": "code",
   "execution_count": 8,
   "id": "7f504f5d",
   "metadata": {},
   "outputs": [
    {
     "name": "stdout",
     "output_type": "stream",
     "text": [
      "0    images_/validation_\\angry_demo\\157.jpg\n",
      "1     images_/validation_\\angry_demo\\23.jpg\n",
      "2    images_/validation_\\angry_demo\\245.jpg\n",
      "3    images_/validation_\\angry_demo\\249.jpg\n",
      "4     images_/validation_\\angry_demo\\38.jpg\n",
      "Name: image, dtype: object\n"
     ]
    }
   ],
   "source": [
    "# print(validation_demo)\n",
    "print(validation_demo['image'].head())"
   ]
  },
  {
   "cell_type": "code",
   "execution_count": 9,
   "id": "693324b0",
   "metadata": {},
   "outputs": [],
   "source": [
    "from tqdm.notebook import tqdm"
   ]
  },
  {
   "cell_type": "code",
   "execution_count": 10,
   "id": "f52ccbbe",
   "metadata": {},
   "outputs": [],
   "source": [
    "def extract_features(images):\n",
    "    features = []\n",
    "    for image in tqdm(images):\n",
    "        img = load_img(image,grayscale =  True )\n",
    "        img = np.array(img)\n",
    "        features.append(img)\n",
    "    features = np.array(features)\n",
    "    features = features.reshape(len(features),48,48,1)\n",
    "    return features"
   ]
  },
  {
   "cell_type": "code",
   "execution_count": 11,
   "id": "942a9d40",
   "metadata": {},
   "outputs": [
    {
     "data": {
      "application/vnd.jupyter.widget-view+json": {
       "model_id": "007209e7497f40f18479fc4d337a848c",
       "version_major": 2,
       "version_minor": 0
      },
      "text/plain": [
       "  0%|          | 0/42 [00:00<?, ?it/s]"
      ]
     },
     "metadata": {},
     "output_type": "display_data"
    },
    {
     "name": "stderr",
     "output_type": "stream",
     "text": [
      "C:\\Users\\HP\\anaconda3\\lib\\site-packages\\keras_preprocessing\\image\\utils.py:107: UserWarning: grayscale is deprecated. Please use color_mode = \"grayscale\"\n",
      "  warnings.warn('grayscale is deprecated. Please use '\n"
     ]
    }
   ],
   "source": [
    "train_features = extract_features(train_demo['image']) "
   ]
  },
  {
   "cell_type": "code",
   "execution_count": 12,
   "id": "c1b294ed",
   "metadata": {},
   "outputs": [
    {
     "data": {
      "application/vnd.jupyter.widget-view+json": {
       "model_id": "b8b0efb420ab48288ae8785d5cb139dd",
       "version_major": 2,
       "version_minor": 0
      },
      "text/plain": [
       "  0%|          | 0/42 [00:00<?, ?it/s]"
      ]
     },
     "metadata": {},
     "output_type": "display_data"
    }
   ],
   "source": [
    "test_features = extract_features(validation_demo['image'])"
   ]
  },
  {
   "cell_type": "code",
   "execution_count": 13,
   "id": "f78b5d34",
   "metadata": {},
   "outputs": [],
   "source": [
    "x_train = train_features/255.0\n",
    "x_test = test_features/255.0"
   ]
  },
  {
   "cell_type": "code",
   "execution_count": 14,
   "id": "c660fca1",
   "metadata": {},
   "outputs": [],
   "source": [
    "from sklearn.preprocessing import LabelEncoder"
   ]
  },
  {
   "cell_type": "code",
   "execution_count": 15,
   "id": "5384a25b",
   "metadata": {},
   "outputs": [
    {
     "data": {
      "text/plain": [
       "LabelEncoder()"
      ]
     },
     "execution_count": 15,
     "metadata": {},
     "output_type": "execute_result"
    }
   ],
   "source": [
    "le = LabelEncoder()\n",
    "le.fit(train_demo['label'])"
   ]
  },
  {
   "cell_type": "code",
   "execution_count": 16,
   "id": "50ece229",
   "metadata": {},
   "outputs": [],
   "source": [
    "y_train = le.transform(train_demo['label'])\n",
    "y_test = le.transform(validation_demo['label'])"
   ]
  },
  {
   "cell_type": "code",
   "execution_count": 17,
   "id": "5e284299",
   "metadata": {},
   "outputs": [],
   "source": [
    "y_train = to_categorical(y_train,num_classes = 7)\n",
    "y_test = to_categorical(y_test,num_classes = 7)"
   ]
  },
  {
   "cell_type": "code",
   "execution_count": 18,
   "id": "3977223a",
   "metadata": {},
   "outputs": [],
   "source": [
    "model = Sequential()\n",
    "\n",
    "model.add(Conv2D(128, kernel_size=(3,3), activation='relu', input_shape=(48,48,1)))\n",
    "model.add(MaxPooling2D(pool_size=(2,2)))\n",
    "model.add(Dropout(0.4))\n",
    "\n",
    "model.add(Conv2D(256, kernel_size=(3,3), activation='relu'))\n",
    "model.add(MaxPooling2D(pool_size=(2,2)))\n",
    "model.add(Dropout(0.4))\n",
    "\n",
    "model.add(Conv2D(512, kernel_size=(3,3), activation='relu'))\n",
    "model.add(MaxPooling2D(pool_size=(2,2)))\n",
    "model.add(Dropout(0.4))\n",
    "\n",
    "model.add(Conv2D(512, kernel_size=(3,3), activation='relu'))\n",
    "model.add(MaxPooling2D(pool_size=(2,2)))\n",
    "model.add(Dropout(0.4))\n",
    "\n",
    "model.add(Flatten())\n",
    "# fully connected layers\n",
    "model.add(Dense(512, activation='relu'))\n",
    "model.add(Dropout(0.4))\n",
    "model.add(Dense(256, activation='relu'))\n",
    "model.add(Dropout(0.3))\n",
    "# output layer\n",
    "model.add(Dense(7, activation='softmax'))"
   ]
  },
  {
   "cell_type": "code",
   "execution_count": 19,
   "id": "de986d6e",
   "metadata": {},
   "outputs": [],
   "source": [
    "model.compile(optimizer = 'adam', loss = 'categorical_crossentropy', metrics = 'accuracy' )"
   ]
  },
  {
   "cell_type": "code",
   "execution_count": 22,
   "id": "5cd0b130",
   "metadata": {},
   "outputs": [
    {
     "name": "stdout",
     "output_type": "stream",
     "text": [
      "Epoch 1/100\n",
      "1/1 [==============================] - 7s 7s/step - loss: 1.9426 - accuracy: 0.1429 - val_loss: 1.9454 - val_accuracy: 0.1429\n",
      "Epoch 2/100\n",
      "1/1 [==============================] - 6s 6s/step - loss: 1.9464 - accuracy: 0.1190 - val_loss: 1.9453 - val_accuracy: 0.1429\n",
      "Epoch 3/100\n",
      "1/1 [==============================] - 6s 6s/step - loss: 1.9612 - accuracy: 0.1429 - val_loss: 1.9454 - val_accuracy: 0.1429\n",
      "Epoch 4/100\n",
      "1/1 [==============================] - 7s 7s/step - loss: 1.9275 - accuracy: 0.2143 - val_loss: 1.9453 - val_accuracy: 0.1429\n",
      "Epoch 5/100\n",
      "1/1 [==============================] - 7s 7s/step - loss: 1.9440 - accuracy: 0.1905 - val_loss: 1.9453 - val_accuracy: 0.1429\n",
      "Epoch 6/100\n",
      "1/1 [==============================] - 7s 7s/step - loss: 1.9296 - accuracy: 0.1905 - val_loss: 1.9452 - val_accuracy: 0.1429\n",
      "Epoch 7/100\n",
      "1/1 [==============================] - 7s 7s/step - loss: 1.9591 - accuracy: 0.0952 - val_loss: 1.9451 - val_accuracy: 0.1429\n",
      "Epoch 8/100\n",
      "1/1 [==============================] - 7s 7s/step - loss: 1.9500 - accuracy: 0.1905 - val_loss: 1.9452 - val_accuracy: 0.1429\n",
      "Epoch 9/100\n",
      "1/1 [==============================] - 7s 7s/step - loss: 1.9482 - accuracy: 0.1905 - val_loss: 1.9453 - val_accuracy: 0.2143\n",
      "Epoch 10/100\n",
      "1/1 [==============================] - 7s 7s/step - loss: 1.9381 - accuracy: 0.1190 - val_loss: 1.9453 - val_accuracy: 0.1667\n",
      "Epoch 11/100\n",
      "1/1 [==============================] - 8s 8s/step - loss: 1.9373 - accuracy: 0.1190 - val_loss: 1.9453 - val_accuracy: 0.1429\n",
      "Epoch 12/100\n",
      "1/1 [==============================] - 7s 7s/step - loss: 1.9506 - accuracy: 0.0476 - val_loss: 1.9454 - val_accuracy: 0.1429\n",
      "Epoch 13/100\n",
      "1/1 [==============================] - 8s 8s/step - loss: 1.9522 - accuracy: 0.1190 - val_loss: 1.9456 - val_accuracy: 0.1429\n",
      "Epoch 14/100\n",
      "1/1 [==============================] - 7s 7s/step - loss: 1.9538 - accuracy: 0.1190 - val_loss: 1.9457 - val_accuracy: 0.1429\n",
      "Epoch 15/100\n",
      "1/1 [==============================] - 7s 7s/step - loss: 1.9412 - accuracy: 0.2619 - val_loss: 1.9457 - val_accuracy: 0.1429\n",
      "Epoch 16/100\n",
      "1/1 [==============================] - 7s 7s/step - loss: 1.9384 - accuracy: 0.2143 - val_loss: 1.9457 - val_accuracy: 0.1429\n",
      "Epoch 17/100\n",
      "1/1 [==============================] - 7s 7s/step - loss: 1.9458 - accuracy: 0.1429 - val_loss: 1.9457 - val_accuracy: 0.1429\n",
      "Epoch 18/100\n",
      "1/1 [==============================] - 7s 7s/step - loss: 1.9502 - accuracy: 0.0952 - val_loss: 1.9457 - val_accuracy: 0.1429\n",
      "Epoch 19/100\n",
      "1/1 [==============================] - 7s 7s/step - loss: 1.9424 - accuracy: 0.1905 - val_loss: 1.9456 - val_accuracy: 0.1905\n",
      "Epoch 20/100\n",
      "1/1 [==============================] - 7s 7s/step - loss: 1.9582 - accuracy: 0.1190 - val_loss: 1.9457 - val_accuracy: 0.1429\n",
      "Epoch 21/100\n",
      "1/1 [==============================] - 7s 7s/step - loss: 1.9409 - accuracy: 0.1905 - val_loss: 1.9457 - val_accuracy: 0.1667\n",
      "Epoch 22/100\n",
      "1/1 [==============================] - 7s 7s/step - loss: 1.9445 - accuracy: 0.1667 - val_loss: 1.9457 - val_accuracy: 0.1667\n",
      "Epoch 23/100\n",
      "1/1 [==============================] - 7s 7s/step - loss: 1.9550 - accuracy: 0.0476 - val_loss: 1.9457 - val_accuracy: 0.1429\n",
      "Epoch 24/100\n",
      "1/1 [==============================] - 7s 7s/step - loss: 1.9441 - accuracy: 0.1190 - val_loss: 1.9458 - val_accuracy: 0.1429\n",
      "Epoch 25/100\n",
      "1/1 [==============================] - 7s 7s/step - loss: 1.9473 - accuracy: 0.1429 - val_loss: 1.9458 - val_accuracy: 0.1429\n",
      "Epoch 26/100\n",
      "1/1 [==============================] - 7s 7s/step - loss: 1.9425 - accuracy: 0.2381 - val_loss: 1.9457 - val_accuracy: 0.1429\n",
      "Epoch 27/100\n",
      "1/1 [==============================] - 7s 7s/step - loss: 1.9420 - accuracy: 0.1905 - val_loss: 1.9456 - val_accuracy: 0.1429\n",
      "Epoch 28/100\n",
      "1/1 [==============================] - 7s 7s/step - loss: 1.9419 - accuracy: 0.0476 - val_loss: 1.9453 - val_accuracy: 0.1429\n",
      "Epoch 29/100\n",
      "1/1 [==============================] - 7s 7s/step - loss: 1.9511 - accuracy: 0.0952 - val_loss: 1.9452 - val_accuracy: 0.1905\n",
      "Epoch 30/100\n",
      "1/1 [==============================] - 7s 7s/step - loss: 1.9395 - accuracy: 0.1905 - val_loss: 1.9450 - val_accuracy: 0.2143\n",
      "Epoch 31/100\n",
      "1/1 [==============================] - 7s 7s/step - loss: 1.9408 - accuracy: 0.1429 - val_loss: 1.9448 - val_accuracy: 0.1667\n",
      "Epoch 32/100\n",
      "1/1 [==============================] - 7s 7s/step - loss: 1.9500 - accuracy: 0.1429 - val_loss: 1.9448 - val_accuracy: 0.1667\n",
      "Epoch 33/100\n",
      "1/1 [==============================] - 7s 7s/step - loss: 1.9469 - accuracy: 0.1190 - val_loss: 1.9449 - val_accuracy: 0.1429\n",
      "Epoch 34/100\n",
      "1/1 [==============================] - 7s 7s/step - loss: 1.9350 - accuracy: 0.1905 - val_loss: 1.9448 - val_accuracy: 0.1429\n",
      "Epoch 35/100\n",
      "1/1 [==============================] - 7s 7s/step - loss: 1.9476 - accuracy: 0.1667 - val_loss: 1.9448 - val_accuracy: 0.1429\n",
      "Epoch 36/100\n",
      "1/1 [==============================] - 7s 7s/step - loss: 1.9340 - accuracy: 0.3095 - val_loss: 1.9444 - val_accuracy: 0.2381\n",
      "Epoch 37/100\n",
      "1/1 [==============================] - 7s 7s/step - loss: 1.9331 - accuracy: 0.2143 - val_loss: 1.9440 - val_accuracy: 0.1905\n",
      "Epoch 38/100\n",
      "1/1 [==============================] - 7s 7s/step - loss: 1.9309 - accuracy: 0.2143 - val_loss: 1.9435 - val_accuracy: 0.1429\n",
      "Epoch 39/100\n",
      "1/1 [==============================] - 7s 7s/step - loss: 1.9286 - accuracy: 0.1667 - val_loss: 1.9434 - val_accuracy: 0.1429\n",
      "Epoch 40/100\n",
      "1/1 [==============================] - 7s 7s/step - loss: 1.9550 - accuracy: 0.1190 - val_loss: 1.9433 - val_accuracy: 0.1905\n",
      "Epoch 41/100\n",
      "1/1 [==============================] - 7s 7s/step - loss: 1.9367 - accuracy: 0.1667 - val_loss: 1.9439 - val_accuracy: 0.1905\n",
      "Epoch 42/100\n",
      "1/1 [==============================] - 7s 7s/step - loss: 1.9290 - accuracy: 0.0952 - val_loss: 1.9444 - val_accuracy: 0.1667\n",
      "Epoch 43/100\n",
      "1/1 [==============================] - 8s 8s/step - loss: 1.9204 - accuracy: 0.2143 - val_loss: 1.9438 - val_accuracy: 0.1667\n",
      "Epoch 44/100\n",
      "1/1 [==============================] - 8s 8s/step - loss: 1.9128 - accuracy: 0.2143 - val_loss: 1.9427 - val_accuracy: 0.1905\n",
      "Epoch 45/100\n",
      "1/1 [==============================] - 7s 7s/step - loss: 1.9158 - accuracy: 0.2381 - val_loss: 1.9443 - val_accuracy: 0.1429\n",
      "Epoch 46/100\n",
      "1/1 [==============================] - 7s 7s/step - loss: 1.9290 - accuracy: 0.1190 - val_loss: 1.9444 - val_accuracy: 0.1429\n",
      "Epoch 47/100\n",
      "1/1 [==============================] - 7s 7s/step - loss: 1.9546 - accuracy: 0.1667 - val_loss: 1.9426 - val_accuracy: 0.2381\n",
      "Epoch 48/100\n",
      "1/1 [==============================] - 7s 7s/step - loss: 1.9296 - accuracy: 0.2143 - val_loss: 1.9448 - val_accuracy: 0.1190\n",
      "Epoch 49/100\n",
      "1/1 [==============================] - 7s 7s/step - loss: 1.9252 - accuracy: 0.1905 - val_loss: 1.9461 - val_accuracy: 0.0952\n",
      "Epoch 50/100\n",
      "1/1 [==============================] - 7s 7s/step - loss: 1.9368 - accuracy: 0.1667 - val_loss: 1.9465 - val_accuracy: 0.1190\n",
      "Epoch 51/100\n",
      "1/1 [==============================] - 7s 7s/step - loss: 1.9368 - accuracy: 0.1667 - val_loss: 1.9463 - val_accuracy: 0.0952\n",
      "Epoch 52/100\n",
      "1/1 [==============================] - 7s 7s/step - loss: 1.9356 - accuracy: 0.1667 - val_loss: 1.9456 - val_accuracy: 0.0952\n",
      "Epoch 53/100\n",
      "1/1 [==============================] - 7s 7s/step - loss: 1.9337 - accuracy: 0.1905 - val_loss: 1.9446 - val_accuracy: 0.1667\n",
      "Epoch 54/100\n",
      "1/1 [==============================] - 8s 8s/step - loss: 1.9164 - accuracy: 0.2381 - val_loss: 1.9429 - val_accuracy: 0.2381\n",
      "Epoch 55/100\n",
      "1/1 [==============================] - 7s 7s/step - loss: 1.9205 - accuracy: 0.1429 - val_loss: 1.9440 - val_accuracy: 0.2381\n",
      "Epoch 56/100\n",
      "1/1 [==============================] - 7s 7s/step - loss: 1.9175 - accuracy: 0.1429 - val_loss: 1.9449 - val_accuracy: 0.2619\n",
      "Epoch 57/100\n",
      "1/1 [==============================] - 7s 7s/step - loss: 1.9303 - accuracy: 0.1667 - val_loss: 1.9439 - val_accuracy: 0.2143\n",
      "Epoch 58/100\n",
      "1/1 [==============================] - 7s 7s/step - loss: 1.9230 - accuracy: 0.1429 - val_loss: 1.9459 - val_accuracy: 0.1190\n",
      "Epoch 59/100\n",
      "1/1 [==============================] - 7s 7s/step - loss: 1.8990 - accuracy: 0.2143 - val_loss: 1.9468 - val_accuracy: 0.1190\n",
      "Epoch 60/100\n"
     ]
    },
    {
     "name": "stdout",
     "output_type": "stream",
     "text": [
      "1/1 [==============================] - 7s 7s/step - loss: 1.9103 - accuracy: 0.2143 - val_loss: 1.9470 - val_accuracy: 0.0952\n",
      "Epoch 61/100\n",
      "1/1 [==============================] - 7s 7s/step - loss: 1.9179 - accuracy: 0.3333 - val_loss: 1.9469 - val_accuracy: 0.1667\n",
      "Epoch 62/100\n",
      "1/1 [==============================] - 7s 7s/step - loss: 1.9261 - accuracy: 0.1905 - val_loss: 1.9476 - val_accuracy: 0.1667\n",
      "Epoch 63/100\n",
      "1/1 [==============================] - 7s 7s/step - loss: 1.8881 - accuracy: 0.2143 - val_loss: 1.9486 - val_accuracy: 0.1429\n",
      "Epoch 64/100\n",
      "1/1 [==============================] - 8s 8s/step - loss: 1.8792 - accuracy: 0.2143 - val_loss: 1.9513 - val_accuracy: 0.1905\n",
      "Epoch 65/100\n",
      "1/1 [==============================] - 7s 7s/step - loss: 1.9193 - accuracy: 0.2143 - val_loss: 1.9520 - val_accuracy: 0.1429\n",
      "Epoch 66/100\n",
      "1/1 [==============================] - 7s 7s/step - loss: 1.8929 - accuracy: 0.2857 - val_loss: 1.9528 - val_accuracy: 0.0714\n",
      "Epoch 67/100\n",
      "1/1 [==============================] - 7s 7s/step - loss: 1.9166 - accuracy: 0.0714 - val_loss: 1.9534 - val_accuracy: 0.0714\n",
      "Epoch 68/100\n",
      "1/1 [==============================] - 7s 7s/step - loss: 1.9033 - accuracy: 0.2381 - val_loss: 1.9573 - val_accuracy: 0.1429\n",
      "Epoch 69/100\n",
      "1/1 [==============================] - 7s 7s/step - loss: 1.8869 - accuracy: 0.2619 - val_loss: 1.9639 - val_accuracy: 0.1667\n",
      "Epoch 70/100\n",
      "1/1 [==============================] - 7s 7s/step - loss: 1.9166 - accuracy: 0.1190 - val_loss: 1.9615 - val_accuracy: 0.1429\n",
      "Epoch 71/100\n",
      "1/1 [==============================] - 7s 7s/step - loss: 1.8889 - accuracy: 0.2143 - val_loss: 1.9597 - val_accuracy: 0.0952\n",
      "Epoch 72/100\n",
      "1/1 [==============================] - 7s 7s/step - loss: 1.8725 - accuracy: 0.3095 - val_loss: 1.9661 - val_accuracy: 0.1190\n",
      "Epoch 73/100\n",
      "1/1 [==============================] - 7s 7s/step - loss: 1.8474 - accuracy: 0.3095 - val_loss: 1.9885 - val_accuracy: 0.0952\n",
      "Epoch 74/100\n",
      "1/1 [==============================] - 8s 8s/step - loss: 1.9171 - accuracy: 0.2619 - val_loss: 1.9749 - val_accuracy: 0.1667\n",
      "Epoch 75/100\n",
      "1/1 [==============================] - 8s 8s/step - loss: 1.8644 - accuracy: 0.2857 - val_loss: 1.9711 - val_accuracy: 0.1429\n",
      "Epoch 76/100\n",
      "1/1 [==============================] - 8s 8s/step - loss: 1.8985 - accuracy: 0.3333 - val_loss: 1.9676 - val_accuracy: 0.0952\n",
      "Epoch 77/100\n",
      "1/1 [==============================] - 8s 8s/step - loss: 1.8663 - accuracy: 0.3333 - val_loss: 1.9808 - val_accuracy: 0.1667\n",
      "Epoch 78/100\n",
      "1/1 [==============================] - 7s 7s/step - loss: 1.8691 - accuracy: 0.2381 - val_loss: 1.9971 - val_accuracy: 0.1905\n",
      "Epoch 79/100\n",
      "1/1 [==============================] - 8s 8s/step - loss: 1.8487 - accuracy: 0.1905 - val_loss: 2.0005 - val_accuracy: 0.1667\n",
      "Epoch 80/100\n",
      "1/1 [==============================] - 7s 7s/step - loss: 1.8046 - accuracy: 0.3333 - val_loss: 2.0059 - val_accuracy: 0.1429\n",
      "Epoch 81/100\n",
      "1/1 [==============================] - 8s 8s/step - loss: 1.8859 - accuracy: 0.2381 - val_loss: 2.0020 - val_accuracy: 0.1667\n",
      "Epoch 82/100\n",
      "1/1 [==============================] - 7s 7s/step - loss: 1.8097 - accuracy: 0.3571 - val_loss: 2.0273 - val_accuracy: 0.1190\n",
      "Epoch 83/100\n",
      "1/1 [==============================] - 7s 7s/step - loss: 1.8740 - accuracy: 0.2381 - val_loss: 2.0306 - val_accuracy: 0.1190\n",
      "Epoch 84/100\n",
      "1/1 [==============================] - 7s 7s/step - loss: 1.8320 - accuracy: 0.2619 - val_loss: 2.0344 - val_accuracy: 0.1190\n",
      "Epoch 85/100\n",
      "1/1 [==============================] - 7s 7s/step - loss: 1.7823 - accuracy: 0.3333 - val_loss: 2.0942 - val_accuracy: 0.1667\n",
      "Epoch 86/100\n",
      "1/1 [==============================] - 7s 7s/step - loss: 1.7409 - accuracy: 0.3095 - val_loss: 2.1017 - val_accuracy: 0.1429\n",
      "Epoch 87/100\n",
      "1/1 [==============================] - 7s 7s/step - loss: 1.7456 - accuracy: 0.2857 - val_loss: 2.0572 - val_accuracy: 0.1190\n",
      "Epoch 88/100\n",
      "1/1 [==============================] - 7s 7s/step - loss: 1.8067 - accuracy: 0.2619 - val_loss: 2.0828 - val_accuracy: 0.0952\n",
      "Epoch 89/100\n",
      "1/1 [==============================] - 7s 7s/step - loss: 1.7085 - accuracy: 0.3095 - val_loss: 2.1877 - val_accuracy: 0.0952\n",
      "Epoch 90/100\n",
      "1/1 [==============================] - 8s 8s/step - loss: 1.7568 - accuracy: 0.2857 - val_loss: 2.1524 - val_accuracy: 0.1190\n",
      "Epoch 91/100\n",
      "1/1 [==============================] - 7s 7s/step - loss: 1.6287 - accuracy: 0.4762 - val_loss: 2.1370 - val_accuracy: 0.1190\n",
      "Epoch 92/100\n",
      "1/1 [==============================] - 7s 7s/step - loss: 1.5747 - accuracy: 0.5476 - val_loss: 2.2253 - val_accuracy: 0.0952\n",
      "Epoch 93/100\n",
      "1/1 [==============================] - 7s 7s/step - loss: 1.6846 - accuracy: 0.3571 - val_loss: 2.2987 - val_accuracy: 0.1190\n",
      "Epoch 94/100\n",
      "1/1 [==============================] - 7s 7s/step - loss: 1.5877 - accuracy: 0.4524 - val_loss: 2.4505 - val_accuracy: 0.1429\n",
      "Epoch 95/100\n",
      "1/1 [==============================] - 7s 7s/step - loss: 1.5875 - accuracy: 0.3810 - val_loss: 2.4529 - val_accuracy: 0.0952\n",
      "Epoch 96/100\n",
      "1/1 [==============================] - 7s 7s/step - loss: 1.6151 - accuracy: 0.2857 - val_loss: 2.5908 - val_accuracy: 0.1667\n",
      "Epoch 97/100\n",
      "1/1 [==============================] - 8s 8s/step - loss: 1.3940 - accuracy: 0.4286 - val_loss: 2.7276 - val_accuracy: 0.1429\n",
      "Epoch 98/100\n",
      "1/1 [==============================] - 8s 8s/step - loss: 1.6568 - accuracy: 0.2857 - val_loss: 2.3879 - val_accuracy: 0.0714\n",
      "Epoch 99/100\n",
      "1/1 [==============================] - 7s 7s/step - loss: 1.5613 - accuracy: 0.4048 - val_loss: 2.4368 - val_accuracy: 0.0714\n",
      "Epoch 100/100\n",
      "1/1 [==============================] - 7s 7s/step - loss: 1.6532 - accuracy: 0.3810 - val_loss: 2.6554 - val_accuracy: 0.1190\n"
     ]
    },
    {
     "data": {
      "text/plain": [
       "<keras.src.callbacks.History at 0x1ac242b1100>"
      ]
     },
     "execution_count": 22,
     "metadata": {},
     "output_type": "execute_result"
    }
   ],
   "source": [
    "model.fit(x= x_train,y = y_train, batch_size = 128, epochs = 100, validation_data = (x_test,y_test)) "
   ]
  },
  {
   "cell_type": "markdown",
   "id": "9ef69c46",
   "metadata": {},
   "source": [
    "# Save Model"
   ]
  },
  {
   "cell_type": "code",
   "execution_count": 39,
   "id": "2b0f1923",
   "metadata": {
    "collapsed": true
   },
   "outputs": [
    {
     "name": "stdout",
     "output_type": "stream",
     "text": [
      "WARNING:tensorflow:Compiled the loaded model, but the compiled metrics have yet to be built. `model.compile_metrics` will be empty until you train or evaluate the model.\n"
     ]
    },
    {
     "name": "stderr",
     "output_type": "stream",
     "text": [
      "C:\\Users\\HP\\anaconda3\\lib\\site-packages\\keras\\src\\engine\\training.py:3000: UserWarning: You are saving your model as an HDF5 file via `model.save()`. This file format is considered legacy. We recommend using instead the native Keras format, e.g. `model.save('my_model.keras')`.\n",
      "  saving_api.save_model(\n"
     ]
    }
   ],
   "source": [
    "model_json = model.to_json()\n",
    "with open(\"facialemotionmodel_.json\",'w') as json_file:\n",
    "    json_file.write(model_json)\n",
    "model.save(\"facialemotionmodel_.h5\")"
   ]
  },
  {
   "cell_type": "code",
   "execution_count": 24,
   "id": "46e2098e",
   "metadata": {},
   "outputs": [],
   "source": [
    "from keras.models import model_from_json"
   ]
  },
  {
   "cell_type": "code",
   "execution_count": 25,
   "id": "90703547",
   "metadata": {},
   "outputs": [],
   "source": [
    "json_file = open(\"facialemotionmodel.json\", \"r\")\n",
    "model_json = json_file.read()\n",
    "json_file.close()\n",
    "model = model_from_json(model_json)\n",
    "model.load_weights(\"facialemotionmodel.h5\")"
   ]
  },
  {
   "cell_type": "code",
   "execution_count": 26,
   "id": "3932bbe8",
   "metadata": {},
   "outputs": [],
   "source": [
    "label = ['angry','disgust','fear','happy','neutral','sad','surprise']"
   ]
  },
  {
   "cell_type": "code",
   "execution_count": 27,
   "id": "b0ccbacf",
   "metadata": {},
   "outputs": [],
   "source": [
    "def ef(image):\n",
    "    img = load_img(image,grayscale =  True )\n",
    "    feature = np.array(img)\n",
    "    feature = feature.reshape(1,48,48,1)\n",
    "    return feature/255.0"
   ]
  },
  {
   "cell_type": "code",
   "execution_count": 30,
   "id": "5882c78e",
   "metadata": {},
   "outputs": [
    {
     "name": "stdout",
     "output_type": "stream",
     "text": [
      "original image is of sad\n"
     ]
    },
    {
     "name": "stderr",
     "output_type": "stream",
     "text": [
      "C:\\Users\\HP\\anaconda3\\lib\\site-packages\\keras_preprocessing\\image\\utils.py:107: UserWarning: grayscale is deprecated. Please use color_mode = \"grayscale\"\n",
      "  warnings.warn('grayscale is deprecated. Please use '\n"
     ]
    },
    {
     "name": "stdout",
     "output_type": "stream",
     "text": [
      "1/1 [==============================] - 0s 443ms/step\n",
      "model prediction is  sad\n"
     ]
    }
   ],
   "source": [
    "image = 'images/train/sad/42.jpg'\n",
    "print(\"original image is of sad\")\n",
    "img = ef(image)\n",
    "pred = model.predict(img)\n",
    "pred_label = label[pred.argmax()]\n",
    "print(\"model prediction is \",pred_label)"
   ]
  },
  {
   "cell_type": "code",
   "execution_count": 31,
   "id": "8994206c",
   "metadata": {},
   "outputs": [],
   "source": [
    "import matplotlib.pyplot as plt\n",
    "%matplotlib inline"
   ]
  },
  {
   "cell_type": "code",
   "execution_count": 32,
   "id": "c83af9e1",
   "metadata": {},
   "outputs": [
    {
     "name": "stdout",
     "output_type": "stream",
     "text": [
      "original image is of sad\n"
     ]
    },
    {
     "name": "stderr",
     "output_type": "stream",
     "text": [
      "C:\\Users\\HP\\anaconda3\\lib\\site-packages\\keras_preprocessing\\image\\utils.py:107: UserWarning: grayscale is deprecated. Please use color_mode = \"grayscale\"\n",
      "  warnings.warn('grayscale is deprecated. Please use '\n"
     ]
    },
    {
     "name": "stdout",
     "output_type": "stream",
     "text": [
      "1/1 [==============================] - 0s 136ms/step\n",
      "model prediction is  sad\n"
     ]
    },
    {
     "data": {
      "text/plain": [
       "<matplotlib.image.AxesImage at 0x1ac251585e0>"
      ]
     },
     "execution_count": 32,
     "metadata": {},
     "output_type": "execute_result"
    },
    {
     "data": {
      "image/png": "[encoded data removed]",
      "text/plain": [
       "<Figure size 432x288 with 1 Axes>"
      ]
     },
     "metadata": {
      "needs_background": "light"
     },
     "output_type": "display_data"
    }
   ],
   "source": [
    "image = 'images/train/sad/42.jpg'\n",
    "print(\"original image is of sad\")\n",
    "img = ef(image)\n",
    "pred = model.predict(img)\n",
    "pred_label = label[pred.argmax()]\n",
    "print(\"model prediction is \",pred_label)\n",
    "plt.imshow(img.reshape(48,48),cmap='gray')"
   ]
  },
  {
   "cell_type": "code",
   "execution_count": 33,
   "id": "5adb7b7a",
   "metadata": {},
   "outputs": [
    {
     "name": "stdout",
     "output_type": "stream",
     "text": [
      "original image is of fear\n",
      "1/1 [==============================] - 0s 109ms/step\n",
      "model prediction is  sad\n"
     ]
    },
    {
     "data": {
      "text/plain": [
       "<matplotlib.image.AxesImage at 0x1ac2c93d460>"
      ]
     },
     "execution_count": 33,
     "metadata": {},
     "output_type": "execute_result"
    },
    {
     "data": {
      "image/png": "[encoded data removed]",
      "text/plain": [
       "<Figure size 432x288 with 1 Axes>"
      ]
     },
     "metadata": {
      "needs_background": "light"
     },
     "output_type": "display_data"
    }
   ],
   "source": [
    "image = 'images/train/fear/2.jpg'\n",
    "print(\"original image is of fear\")\n",
    "img = ef(image)\n",
    "pred = model.predict(img)\n",
    "pred_label = label[pred.argmax()]\n",
    "print(\"model prediction is \",pred_label)\n",
    "plt.imshow(img.reshape(48,48),cmap='gray')"
   ]
  },
  {
   "cell_type": "code",
   "execution_count": 35,
   "id": "1c4befa7",
   "metadata": {},
   "outputs": [
    {
     "name": "stdout",
     "output_type": "stream",
     "text": [
      "original image is of happy\n",
      "1/1 [==============================] - 0s 199ms/step\n",
      "model prediction is  happy\n"
     ]
    },
    {
     "data": {
      "text/plain": [
       "<matplotlib.image.AxesImage at 0x1ac2c99a0a0>"
      ]
     },
     "execution_count": 35,
     "metadata": {},
     "output_type": "execute_result"
    },
    {
     "data": {
      "image/png": "[encoded data removed]",
      "text/plain": [
       "<Figure size 432x288 with 1 Axes>"
      ]
     },
     "metadata": {
      "needs_background": "light"
     },
     "output_type": "display_data"
    }
   ],
   "source": [
    "image = 'images/train/happy/7.jpg'\n",
    "print(\"original image is of happy\")\n",
    "img = ef(image)\n",
    "pred = model.predict(img)\n",
    "pred_label = label[pred.argmax()]\n",
    "print(\"model prediction is \",pred_label)\n",
    "plt.imshow(img.reshape(48,48),cmap='gray')"
   ]
  },
  {
   "cell_type": "code",
   "execution_count": 36,
   "id": "8d6bb2fa",
   "metadata": {},
   "outputs": [
    {
     "name": "stdout",
     "output_type": "stream",
     "text": [
      "original image is of surprise\n",
      "1/1 [==============================] - 0s 107ms/step\n",
      "model prediction is  surprise\n"
     ]
    },
    {
     "data": {
      "text/plain": [
       "<matplotlib.image.AxesImage at 0x1ac2c9ea8b0>"
      ]
     },
     "execution_count": 36,
     "metadata": {},
     "output_type": "execute_result"
    },
    {
     "data": {
      "image/png": "[encoded data removed]",
      "text/plain": [
       "<Figure size 432x288 with 1 Axes>"
      ]
     },
     "metadata": {
      "needs_background": "light"
     },
     "output_type": "display_data"
    }
   ],
   "source": [
    "image = 'images/train/surprise/15.jpg'\n",
    "print(\"original image is of surprise\")\n",
    "img = ef(image)\n",
    "pred = model.predict(img)\n",
    "pred_label = label[pred.argmax()]\n",
    "print(\"model prediction is \",pred_label)\n",
    "plt.imshow(img.reshape(48,48),cmap='gray')"
   ]
  },
  {
   "cell_type": "code",
   "execution_count": null,
   "id": "70f71e6a",
   "metadata": {},
   "outputs": [],
   "source": []
  }
 ],
 "metadata": {
  "kernelspec": {
   "display_name": "Python 3 (ipykernel)",
   "language": "python",
   "name": "python3"
  },
  "language_info": {
   "codemirror_mode": {
    "name": "ipython",
    "version": 3
   },
   "file_extension": ".py",
   "mimetype": "text/x-python",
   "name": "python",
   "nbconvert_exporter": "python",
   "pygments_lexer": "ipython3",
   "version": "3.9.12"
  }
 },
 "nbformat": 4,
 "nbformat_minor": 5
}
